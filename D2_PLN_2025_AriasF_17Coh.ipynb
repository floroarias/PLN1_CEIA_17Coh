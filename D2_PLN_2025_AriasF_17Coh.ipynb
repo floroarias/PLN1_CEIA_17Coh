{
  "cells": [
    {
      "cell_type": "markdown",
      "metadata": {
        "id": "92uGZ5eH84Ky"
      },
      "source": [
        "# Consigna del desafío 2:\n",
        "## Crear sus propios vectores con Gensim basado en lo visto en clase con otro dataset.\n",
        "\n",
        "## Probar términos de interés y explicar similitudes en el espacio de embeddings.\n",
        "\n",
        "## Intentar plantear y probar tests de analogías. Graficar los embeddings resultantes.\n",
        "\n",
        "## Sacar conclusiones."
      ]
    },
    {
      "cell_type": "markdown",
      "metadata": {
        "id": "rj9LwpUwWmFl"
      },
      "source": [
        "# Desafío 2: Entrenamiento de embeddings con Gensim"
      ]
    },
    {
      "cell_type": "code",
      "execution_count": null,
      "metadata": {
        "colab": {
          "base_uri": "https://localhost:8080/"
        },
        "id": "BzRyx3hqp8xC",
        "outputId": "6fdefad7-95f0-47d4-bf48-74023956fff7"
      },
      "outputs": [
        {
          "name": "stdout",
          "output_type": "stream",
          "text": [
            "Requirement already satisfied: numpy==1.24.4 in /usr/local/lib/python3.11/dist-packages (1.24.4)\n",
            "\u001b[31mERROR: Ignored the following yanked versions: 1.11.0, 1.14.0rc1\u001b[0m\u001b[31m\n",
            "\u001b[0m\u001b[31mERROR: Ignored the following versions that require a different python version: 1.6.2 Requires-Python >=3.7,<3.10; 1.6.3 Requires-Python >=3.7,<3.10; 1.7.0 Requires-Python >=3.7,<3.10; 1.7.1 Requires-Python >=3.7,<3.10; 1.7.2 Requires-Python >=3.7,<3.11; 1.7.3 Requires-Python >=3.7,<3.11; 1.8.0 Requires-Python >=3.8,<3.11; 1.8.0rc1 Requires-Python >=3.8,<3.11; 1.8.0rc2 Requires-Python >=3.8,<3.11; 1.8.0rc3 Requires-Python >=3.8,<3.11; 1.8.0rc4 Requires-Python >=3.8,<3.11; 1.8.1 Requires-Python >=3.8,<3.11\u001b[0m\u001b[31m\n",
            "\u001b[0m\u001b[31mERROR: Could not find a version that satisfies the requirement scipy==1.13.3 (from versions: 0.8.0, 0.9.0, 0.10.0, 0.10.1, 0.11.0, 0.12.0, 0.12.1, 0.13.0, 0.13.1, 0.13.2, 0.13.3, 0.14.0, 0.14.1, 0.15.0, 0.15.1, 0.16.0, 0.16.1, 0.17.0, 0.17.1, 0.18.0, 0.18.1, 0.19.0, 0.19.1, 1.0.0, 1.0.1, 1.1.0, 1.2.0, 1.2.1, 1.2.2, 1.2.3, 1.3.0, 1.3.1, 1.3.2, 1.3.3, 1.4.0, 1.4.1, 1.5.0, 1.5.1, 1.5.2, 1.5.3, 1.5.4, 1.6.0, 1.6.1, 1.9.0rc1, 1.9.0rc2, 1.9.0rc3, 1.9.0, 1.9.1, 1.9.2, 1.9.3, 1.10.0rc1, 1.10.0rc2, 1.10.0, 1.10.1, 1.11.0rc1, 1.11.0rc2, 1.11.1, 1.11.2, 1.11.3, 1.11.4, 1.12.0rc1, 1.12.0rc2, 1.12.0, 1.13.0rc1, 1.13.0, 1.13.1, 1.14.0rc2, 1.14.0, 1.14.1, 1.15.0rc1, 1.15.0rc2, 1.15.0, 1.15.1, 1.15.2)\u001b[0m\u001b[31m\n",
            "\u001b[0m\u001b[31mERROR: No matching distribution found for scipy==1.13.3\u001b[0m\u001b[31m\n",
            "\u001b[0mRequirement already satisfied: gensim in /usr/local/lib/python3.11/dist-packages (4.3.3)\n",
            "Requirement already satisfied: numpy<2.0,>=1.18.5 in /usr/local/lib/python3.11/dist-packages (from gensim) (1.24.4)\n",
            "Requirement already satisfied: scipy<1.14.0,>=1.7.0 in /usr/local/lib/python3.11/dist-packages (from gensim) (1.13.1)\n",
            "Requirement already satisfied: smart-open>=1.8.1 in /usr/local/lib/python3.11/dist-packages (from gensim) (7.1.0)\n",
            "Requirement already satisfied: wrapt in /usr/local/lib/python3.11/dist-packages (from smart-open>=1.8.1->gensim) (1.17.2)\n"
          ]
        }
      ],
      "source": [
        "# Aquí entrenaremos nuestros propios vectores usando Word2Vec sobre un corpus distinto.\n",
        "!pip install numpy==1.24.4\n",
        "!pip install scipy==1.13.3\n",
        "!pip install --upgrade gensim\n",
        "# 0. Importaciones\n",
        "import gensim.downloader as api\n",
        "from gensim.models import Word2Vec\n",
        "from gensim.utils import simple_preprocess\n",
        "from sklearn.decomposition import PCA\n",
        "import matplotlib.pyplot as plt"
      ]
    },
    {
      "cell_type": "markdown",
      "metadata": {
        "id": "3fn5l9kdr3eX"
      },
      "source": [
        "# 1. Cargar un corpus de ejemplo (usaremos 'text8')\n",
        "# Se compone de un iterable de listas de tokens"
      ]
    },
    {
      "cell_type": "code",
      "execution_count": null,
      "metadata": {
        "colab": {
          "base_uri": "https://localhost:8080/"
        },
        "id": "iC70monJrJXY",
        "outputId": "ef8c1066-fa74-4ad2-e8c8-b333472d588d"
      },
      "outputs": [
        {
          "name": "stdout",
          "output_type": "stream",
          "text": [
            "[==================================================] 100.0% 31.6/31.6MB downloaded\n"
          ]
        }
      ],
      "source": [
        "corpus = api.load('text8')  # ~17M tokens, preprocesado"
      ]
    },
    {
      "cell_type": "markdown",
      "metadata": {
        "id": "P7Z6eA8Mr8fq"
      },
      "source": [
        "# 2. Entrenar el modelo Word2Vec\n",
        "# Parámetros típicos: tamaño de vector, ventana, min_count"
      ]
    },
    {
      "cell_type": "code",
      "execution_count": null,
      "metadata": {
        "id": "KTS9C5JnrUuY"
      },
      "outputs": [],
      "source": [
        "model = Word2Vec(\n",
        "    sentences=corpus,\n",
        "    vector_size=100,\n",
        "    window=5,\n",
        "    min_count=5,\n",
        "    workers=4,\n",
        "    sg=1,          # 1 = skip-gram; 0 = CBOW\n",
        "    epochs=5\n",
        ")\n"
      ]
    },
    {
      "cell_type": "markdown",
      "metadata": {
        "id": "5sPzS_pZr-1v"
      },
      "source": [
        "# 3. Pruebas de similitud"
      ]
    },
    {
      "cell_type": "code",
      "execution_count": null,
      "metadata": {
        "colab": {
          "base_uri": "https://localhost:8080/"
        },
        "id": "tC-hYcqwrY24",
        "outputId": "e7549332-21b0-46b8-8245-e8fa65d17aa1"
      },
      "outputs": [
        {
          "name": "stdout",
          "output_type": "stream",
          "text": [
            "== Similitudes entre términos de interés ==\n",
            "king ↔ queen: 0.688\n",
            "king ↔ computer: 0.165\n",
            "king ↔ internet: 0.216\n",
            "king ↔ health: 0.079\n",
            "king ↔ disease: 0.111\n",
            "queen ↔ computer: 0.139\n",
            "queen ↔ internet: 0.120\n",
            "queen ↔ health: 0.250\n",
            "queen ↔ disease: 0.215\n",
            "computer ↔ internet: 0.555\n",
            "computer ↔ health: 0.282\n",
            "computer ↔ disease: 0.222\n",
            "internet ↔ health: 0.285\n",
            "internet ↔ disease: 0.162\n",
            "health ↔ disease: 0.640\n"
          ]
        }
      ],
      "source": [
        "términos_interés = ['king', 'queen', 'computer', 'internet', 'health', 'disease']\n",
        "print(\"== Similitudes entre términos de interés ==\")\n",
        "for i, w1 in enumerate(términos_interés[:-1]):\n",
        "    for w2 in términos_interés[i+1:]:\n",
        "        if w1 in model.wv and w2 in model.wv:\n",
        "            sim = model.wv.similarity(w1, w2)\n",
        "            print(f\"{w1} ↔ {w2}: {sim:.3f}\")\n"
      ]
    },
    {
      "cell_type": "markdown",
      "metadata": {
        "id": "uQOIwR6GsBKd"
      },
      "source": [
        "# 4. Test de analogías"
      ]
    },
    {
      "cell_type": "code",
      "execution_count": null,
      "metadata": {
        "colab": {
          "base_uri": "https://localhost:8080/"
        },
        "id": "FVS-2OPurbSg",
        "outputId": "cef83bce-d9ac-421a-c754-c93a8a346185"
      },
      "outputs": [
        {
          "name": "stdout",
          "output_type": "stream",
          "text": [
            "\n",
            "== Analogías ==\n",
            "Analogy ['king', 'woman'] - ['man']: [('throne', 0.6684068441390991), ('consort', 0.665698230266571), ('prince', 0.6491996645927429), ('daughter', 0.641200840473175), ('queen', 0.639885425567627)]\n",
            "Analogy ['paris', 'france'] - ['germany']: [('le', 0.6703222990036011), ('duc', 0.6497743725776672), ('de', 0.6472206115722656), ('philippe', 0.6467017531394958), ('nantes', 0.642662763595581)]\n",
            "Analogy ['computer', 'software'] - ['hardware']: [('freeware', 0.694797694683075), ('hypermedia', 0.6926516890525818), ('webring', 0.6844690442085266), ('developer', 0.6809481382369995), ('hobbyist', 0.6803642511367798)]\n"
          ]
        }
      ],
      "source": [
        "tests = [\n",
        "    (['king', 'woman'], ['man']),\n",
        "    (['paris', 'france'], ['germany']),\n",
        "    (['computer', 'software'], ['hardware'])\n",
        "]\n",
        "print(\"\\n== Analogías ==\")\n",
        "for positive, negative in tests:\n",
        "    try:\n",
        "        result = model.wv.most_similar(positive=positive, negative=negative, topn=5)\n",
        "        print(f\"Analogy {positive} - {negative}: {result}\")\n",
        "    except KeyError as e:\n",
        "        print(\"Falta término en vocabulario:\", e)\n"
      ]
    },
    {
      "cell_type": "markdown",
      "metadata": {
        "id": "iwYYbXm1sEGf"
      },
      "source": [
        "# 5. Visualización en 2D de un subconjunto de embeddings\n",
        "# Elegimos manualmente unas 20 palabras relevantes"
      ]
    },
    {
      "cell_type": "code",
      "execution_count": null,
      "metadata": {
        "colab": {
          "base_uri": "https://localhost:8080/",
          "height": 565
        },
        "id": "790SDmbkrdow",
        "outputId": "46de24f5-a072-401e-a788-5ca3061511c5"
      },
      "outputs": [
        {
          "data": {
            "image/png": "[encoded data removed]",
            "text/plain": [
              "<Figure size 800x600 with 1 Axes>"
            ]
          },
          "metadata": {},
          "output_type": "display_data"
        }
      ],
      "source": [
        "palabras_viz = ['king', 'queen', 'man', 'woman', 'computer', 'internet', 'health', 'disease',\n",
        "                'paris', 'france', 'germany', 'software', 'hardware', 'science', 'space', 'nasa']\n",
        "\n",
        "# Extraer vectores\n",
        "vectores = [model.wv[w] for w in palabras_viz if w in model.wv]\n",
        "labels   = [w for w in palabras_viz if w in model.wv]\n",
        "\n",
        "# Reducir con PCA\n",
        "dec = PCA(n_components=2)\n",
        "coords = dec.fit_transform(vectores)\n",
        "\n",
        "# Graficar\n",
        "plt.figure(figsize=(8,6))\n",
        "for xy, label in zip(coords, labels):\n",
        "    plt.scatter(xy[0], xy[1])\n",
        "    plt.text(xy[0]+0.01, xy[1]+0.01, label)\n",
        "plt.title('Proyección 2D de embeddings con PCA')\n",
        "plt.xlabel('PC1')\n",
        "plt.ylabel('PC2')\n",
        "plt.show()"
      ]
    },
    {
      "cell_type": "markdown",
      "metadata": {
        "id": "LEJLlti6rrkw"
      },
      "source": [
        "# 6. Conclusiones\n",
        "## - Observar si términos relacionados quedan cercanos en el espacio proyectado.\n",
        "## - Verificar si las analogías devuelven relaciones semánticas coherentes."
      ]
    },
    {
      "cell_type": "markdown",
      "metadata": {
        "id": "-GPHe1x--eFy"
      },
      "source": [
        "# Similitudes entre términos de interés\n",
        "# Pares de Términos y Similitud Obtenida\n",
        "## computer - internet = 0.555\n",
        "## health - disease = 0.640\n",
        "##queen - health = 0.250\n",
        "##queen - disease = 0.215\n",
        "\n",
        "Las parejas “computer - internet” y “health - disease” muestran similitudes altas (≈0.55 – 0.64), lo cual es exactamente lo que esperaríamos: co-aparición fuerte en el corpus.\n",
        "\n",
        "En cambio términos menos relacionados (como “queen - health”) bajan a ≈0.25, confirmando que el espacio de embeddings distingue bien semánticamente.\n",
        "\n",
        "Se podría refinar la granularidad de esas distancias con:\n",
        "*   Aumentar epochs (de 5 a 10-20) para afinar los vectores.\n",
        "*   Probar tamaños de vector mayores (vector_size=200 o 300) para captar más matices semánticos.\n",
        "*   Experimentar con CBOW (sg=0) frente a Skip-gram (sg=1). En algunos casos CBOW estabiliza un poco mejor las palabras frecuentes.\n",
        "\n"
      ]
    },
    {
      "cell_type": "markdown",
      "metadata": {
        "id": "e7TzOqtv_Wfv"
      },
      "source": [
        "# Test de analogías\n",
        "## king - man + woman → [('throne', 0.668), ('daughter', 0.641), ('queen', 0.639)]\n",
        "\n",
        "Aparece “queen” (esperado) pero bastante desplazado por “throne”. Sigue siendo razonable: “throne” tiene mucha co-ocurrencia con “king”, de modo que el vector resultante tira hacia conceptos cercanos al poder.\n",
        "\n",
        "## paris - france + germany → [('le', 0.670), ('philippe', 0.646), ('nantes', 0.643)]\n",
        "\n",
        "No obtuvimos “berlin” sino términos franceses (“le”, “Philippe”, “Nantes”). Esto indica que el corpus (text8) está sesgado hacia referencias francesas y no contiene co-apariciones fuertes de “Berlin” con “Germany”.\n",
        "\n",
        "## computer + software - hardware → [('freeware', …), ('developer', …), ('hobbyist', …)]\n",
        "\n",
        "De nuevo, no obtenemos un antónimo puro de “hardware” sino palabras relacionadas con software y roles de usuario. Aun así, refleja una relación semántica coherente.\n",
        "\n",
        "## Observaciones:\n",
        "\n",
        "Para analogías geográficas es útil usar un corpus más balanceado o explícito (Wikipedia completo en varios idiomas).\n",
        "\n",
        "Podríamos aumentar las épocas de entrenamiento y usar un vocabulario más amplio (min_count=1–2) para que aparezcan más términos de interés.\n",
        "\n",
        "Podríamos considerar usar métricas de evaluación más sistemáticas (por ej. listas de analogías estándar: Google Analogy Test Set)."
      ]
    },
    {
      "cell_type": "markdown",
      "metadata": {
        "id": "dUOe3n2BBEal"
      },
      "source": [
        "# Visualización con PCA\n",
        "* Cluster género: king/queen cerca de man/woman (aunque yo creo que deberían estar un poco más cerca).\n",
        "* Cluster tecnológica: computer/internet/software.\n",
        "* Cluster salud: health/disease.\n",
        "* Cluster geográfico: paris/france/germany.\n",
        "\n",
        "Confirma que el embedding está capturando dimensiones semánticas globales a pesar de usar sólo dos componentes.\n",
        "\n",
        "## Observaciones:\n",
        "Podríamos probar t-SNE o UMAP para una proyección no lineal que suele separar mejor clústeres semánticos.\n",
        "\n",
        "Ajustar el número de palabras en la visualización o usar interactividad (por ej. Plotly) para explorar mejor el espacio."
      ]
    },
    {
      "cell_type": "markdown",
      "metadata": {
        "id": "3AQr9hlDBImV"
      },
      "source": [
        "# **Conclusión**:\n",
        "* ## **Entrenamiento**: nuestra implementación genera vectores válidos que capturan similitud semántica básica.\n",
        "* ## **Analogías**: funcionan en líneas generales (términos muy frecuentes), pero dependen del corpus.\n",
        "* ## **Visualización**: permite verificar la proximidad de grupos de palabras.\n",
        "\n",
        "## **Mejoras posibles**:\n",
        "\n",
        "* Experimentar con más épocas, diferentes ventanas (window=3,7) y tamaños de vector mayores.\n",
        "* Usar corpus alternativos o más grandes.\n",
        "* Evaluar de forma sistemática con conjuntos de analogías publicados.\n",
        "* Probar proyecciones no lineales (t-SNE/UMAP)."
      ]
    }
  ],
  "metadata": {
    "accelerator": "GPU",
    "colab": {
      "gpuType": "T4",
      "provenance": []
    },
    "kernelspec": {
      "display_name": "Python 3",
      "name": "python3"
    },
    "language_info": {
      "name": "python"
    }
  },
  "nbformat": 4,
  "nbformat_minor": 0
}
